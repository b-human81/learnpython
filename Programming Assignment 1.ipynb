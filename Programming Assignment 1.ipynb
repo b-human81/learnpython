{
 "cells": [
  {
   "cell_type": "markdown",
   "id": "2b7270f1",
   "metadata": {},
   "source": [
    "# 1. Write a Python program to print 'Hello Python'?"
   ]
  },
  {
   "cell_type": "code",
   "execution_count": 1,
   "id": "218050b1",
   "metadata": {},
   "outputs": [
    {
     "name": "stdout",
     "output_type": "stream",
     "text": [
      "Hello Python\n"
     ]
    }
   ],
   "source": [
    "a = ('Hello Python')\n",
    "print(a)"
   ]
  },
  {
   "cell_type": "markdown",
   "id": "54d608df",
   "metadata": {},
   "source": [
    "# 2. Write a Python program to do arithmetical operations addition and division.?"
   ]
  },
  {
   "cell_type": "code",
   "execution_count": 8,
   "id": "a8250bb1",
   "metadata": {},
   "outputs": [
    {
     "name": "stdout",
     "output_type": "stream",
     "text": [
      "enter first number 5\n",
      "enter second number 66\n",
      "enter operation \"+\" or \"/\" /\n",
      "0.07575757575757576\n"
     ]
    }
   ],
   "source": [
    "a=int(input('enter first number '))\n",
    "b=int(input('enter second number '))\n",
    "c=input('enter operation \"+\" or \"/\" ')\n",
    "if c==('+'):\n",
    "    d=a+b\n",
    "    print(d)\n",
    "elif c==('/'):\n",
    "    d=a/b\n",
    "    print(d)\n",
    "else:\n",
    "    print('wrong input')"
   ]
  },
  {
   "cell_type": "markdown",
   "id": "2ae191aa",
   "metadata": {},
   "source": [
    "# 3. Write a Python program to find the area of a triangle?"
   ]
  },
  {
   "cell_type": "code",
   "execution_count": 15,
   "id": "9f012c45",
   "metadata": {},
   "outputs": [
    {
     "name": "stdout",
     "output_type": "stream",
     "text": [
      "enter altitude of triangle 20\n",
      "enter base of triangle20\n",
      "area of triangle is 200.0\n"
     ]
    }
   ],
   "source": [
    "x=int(input('enter altitude of triangle '))\n",
    "y=int(input('enter base of triangle' ))\n",
    "z=0.5*x*y\n",
    "print('area of triangle is '+str(z))"
   ]
  },
  {
   "cell_type": "markdown",
   "id": "ff0bdc0d",
   "metadata": {},
   "source": [
    "# 4.Write a Python program to swap two variables?"
   ]
  },
  {
   "cell_type": "code",
   "execution_count": 21,
   "id": "7450515f",
   "metadata": {},
   "outputs": [
    {
     "name": "stdout",
     "output_type": "stream",
     "text": [
      "20 10\n"
     ]
    }
   ],
   "source": [
    "a=10\n",
    "b=20\n",
    "x=a\n",
    "a=b\n",
    "b=x\n",
    "print(a,b)"
   ]
  },
  {
   "cell_type": "markdown",
   "id": "f5610170",
   "metadata": {},
   "source": [
    "# 5. Write a Python program to generate a random number?"
   ]
  },
  {
   "cell_type": "code",
   "execution_count": 31,
   "id": "c468dc1c",
   "metadata": {},
   "outputs": [
    {
     "name": "stdout",
     "output_type": "stream",
     "text": [
      "4377\n"
     ]
    }
   ],
   "source": [
    "import random\n",
    "a=random.randint(0,9999)\n",
    "print(a)"
   ]
  }
 ],
 "metadata": {
  "kernelspec": {
   "display_name": "Python 3 (ipykernel)",
   "language": "python",
   "name": "python3"
  },
  "language_info": {
   "codemirror_mode": {
    "name": "ipython",
    "version": 3
   },
   "file_extension": ".py",
   "mimetype": "text/x-python",
   "name": "python",
   "nbconvert_exporter": "python",
   "pygments_lexer": "ipython3",
   "version": "3.9.13"
  }
 },
 "nbformat": 4,
 "nbformat_minor": 5
}
